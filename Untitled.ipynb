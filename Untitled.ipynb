{
 "cells": [
  {
   "cell_type": "code",
   "execution_count": 6,
   "id": "9e34ba7d",
   "metadata": {},
   "outputs": [
    {
     "name": "stdout",
     "output_type": "stream",
     "text": [
      "Anomaly detected at index:      3\n",
      "Anomaly detected at index:      18\n",
      "Change point detected at index: 20\n",
      "Anomaly detected at index:      21\n",
      "Anomaly detected at index:      22\n",
      "Anomaly detected at index:      23\n",
      "Anomaly detected at index:      24\n",
      "Anomaly detected at index:      25\n",
      "Change point detected at index: 27\n",
      "Anomaly detected at index:      28\n",
      "Anomaly detected at index:      29\n",
      "Anomaly detected at index:      30\n",
      "Anomaly detected at index:      31\n",
      "Anomaly detected at index:      32\n",
      "Anomaly detected at index:      35\n",
      "Anomaly detected at index:      44\n"
     ]
    }
   ],
   "source": [
    "from azure.ai.anomalydetector import AnomalyDetectorClient\n",
    "from azure.ai.anomalydetector.models import *\n",
    "from azure.core.credentials import AzureKeyCredential\n",
    "import pandas as pd\n",
    "import os\n",
    "\n",
    "API_KEY = os.environ['ANOMALY_DETECTOR_API_KEY']\n",
    "ENDPOINT = os.environ['ANOMALY_DETECTOR_ENDPOINT']\n",
    "DATA_PATH = \"C:/Users/Lenovo/Downloads/request-data.csv\" #example: c:\\\\test\\\\request-data.csv\n",
    "\n",
    "client = AnomalyDetectorClient(ENDPOINT, AzureKeyCredential(API_KEY))\n",
    "\n",
    "series = []\n",
    "data_file = pd.read_csv(DATA_PATH, header=None, encoding='utf-8', date_parser=[0])\n",
    "for index, row in data_file.iterrows():\n",
    "    series.append(TimeSeriesPoint(timestamp=row[0], value=row[1]))\n",
    "\n",
    "request = UnivariateDetectionOptions(series=series, granularity=TimeGranularity.DAILY)\n",
    "\n",
    "change_point_response = client.detect_univariate_change_point(request)\n",
    "anomaly_response = client.detect_univariate_entire_series(request)\n",
    "\n",
    "for i in range(len(data_file.values)):\n",
    "    if (change_point_response.is_change_point[i]):\n",
    "        print(\"Change point detected at index: \"+ str(i))\n",
    "    elif (anomaly_response.is_anomaly[i]):\n",
    "        print(\"Anomaly detected at index:      \"+ str(i))"
   ]
  },
  {
   "cell_type": "code",
   "execution_count": 7,
   "id": "cba4b631",
   "metadata": {},
   "outputs": [
    {
     "name": "stdout",
     "output_type": "stream",
     "text": [
      "Anomaly detected at index:      3\n",
      "Anomaly detected at index:      18\n",
      "Change point detected at index: 20\n",
      "Anomaly detected at index:      21\n",
      "Anomaly detected at index:      22\n",
      "Anomaly detected at index:      23\n",
      "Anomaly detected at index:      24\n",
      "Anomaly detected at index:      25\n",
      "Change point detected at index: 27\n",
      "Anomaly detected at index:      28\n",
      "Anomaly detected at index:      29\n",
      "Anomaly detected at index:      30\n",
      "Anomaly detected at index:      31\n",
      "Anomaly detected at index:      32\n",
      "Anomaly detected at index:      35\n",
      "Anomaly detected at index:      44\n"
     ]
    },
    {
     "data": {
      "image/png": "[encoded data removed]",
      "text/plain": [
       "<Figure size 640x480 with 1 Axes>"
      ]
     },
     "metadata": {},
     "output_type": "display_data"
    }
   ],
   "source": [
    "from azure.ai.anomalydetector import AnomalyDetectorClient\n",
    "from azure.ai.anomalydetector.models import *\n",
    "from azure.core.credentials import AzureKeyCredential\n",
    "import pandas as pd\n",
    "import matplotlib.pyplot as plt\n",
    "import matplotlib.dates as mdates\n",
    "\n",
    "API_KEY = os.environ['ANOMALY_DETECTOR_API_KEY']\n",
    "ENDPOINT = os.environ['ANOMALY_DETECTOR_ENDPOINT']\n",
    "DATA_PATH = \"C:/Users/Lenovo/Downloads/request-data.csv\" #example: c:\\\\test\\\\request-data.csv\n",
    "\n",
    "client = AnomalyDetectorClient(ENDPOINT, AzureKeyCredential(API_KEY))\n",
    "\n",
    "series = []\n",
    "data_file = pd.read_csv(DATA_PATH, header=None, encoding='utf-8', date_parser=[0])\n",
    "for index, row in data_file.iterrows():\n",
    "    series.append(TimeSeriesPoint(timestamp=row[0], value=row[1]))\n",
    "\n",
    "request = UnivariateDetectionOptions(series=series, granularity=TimeGranularity.DAILY)\n",
    "\n",
    "change_point_response = client.detect_univariate_change_point(request)\n",
    "anomaly_response = client.detect_univariate_entire_series(request)\n",
    "\n",
    "for i in range(len(data_file.values)):\n",
    "    temp_date_to_num = mdates.date2num(data_file.values[i])\n",
    "    date= temp_date_to_num[0]\n",
    "    if (change_point_response.is_change_point[i]):\n",
    "        plt.plot(date,data_file.values[i][1], 's', color ='blue')\n",
    "        print(\"Change point detected at index: \"+ str(i))\n",
    "    elif (anomaly_response.is_anomaly[i]):\n",
    "        plt.plot(date,data_file.values[i][1], '^', color=\"red\")\n",
    "        print(\"Anomaly detected at index:      \"+ str(i))\n",
    "    else:\n",
    "        plt.plot(date,data_file.values[i][1], 'o', color ='green')\n",
    "plt.show()"
   ]
  },
  {
   "cell_type": "code",
   "execution_count": null,
   "id": "e5954d95",
   "metadata": {},
   "outputs": [],
   "source": []
  }
 ],
 "metadata": {
  "kernelspec": {
   "display_name": "Python 3 (ipykernel)",
   "language": "python",
   "name": "python3"
  },
  "language_info": {
   "codemirror_mode": {
    "name": "ipython",
    "version": 3
   },
   "file_extension": ".py",
   "mimetype": "text/x-python",
   "name": "python",
   "nbconvert_exporter": "python",
   "pygments_lexer": "ipython3",
   "version": "3.10.9"
  }
 },
 "nbformat": 4,
 "nbformat_minor": 5
}
